{
 "cells": [
  {
   "cell_type": "markdown",
   "metadata": {},
   "source": [
    "## Setup"
   ]
  },
  {
   "cell_type": "code",
   "execution_count": 1,
   "metadata": {},
   "outputs": [],
   "source": [
    "import pandas as pd\n",
    "import logging \n",
    "import sys\n",
    "import os\n",
    "sys.path.insert(0,'./src')\n",
    "\n",
    "\n",
    "from src.utils.logger import sys_logger\n",
    "\n",
    "os.makedirs(\"./final_data\", exist_ok=True)"
   ]
  },
  {
   "cell_type": "markdown",
   "metadata": {},
   "source": [
    "## Landing Zone to Staging"
   ]
  },
  {
   "cell_type": "code",
   "execution_count": 2,
   "metadata": {},
   "outputs": [
    {
     "name": "stderr",
     "output_type": "stream",
     "text": [
      "[splitter.py:9]                 Files in landing zone: ['products_20241011.json', 'customer_20241009.csv', 'products_20241010.json', 'sales_20241010.txt', 'sales_20241011.txt', 'sales_20241013.txt', 'sales_20241012.txt', 'sales_20241015.txt', 'sales_20241014.txt', 'products_20241015.json', 'sales_20241009.txt', 'products_20241014.json', 'products_20241009.json', 'customer_20241015.csv', 'products_20241013.json', 'customer_20241014.csv', 'customer_20241010.csv', 'products_20241012.json', 'customer_20241011.csv', 'customer_20241013.csv', 'customer_20241012.csv']\n",
      "[splitter.py:20]                products_20241011.json did not match with any source\n",
      "[splitter.py:14]                customer_20241009.csv matched with customer\n",
      "[splitter.py:17]                customer_20241009.csv moved to ./data/customer/\n",
      "[splitter.py:20]                products_20241010.json did not match with any source\n",
      "[splitter.py:20]                sales_20241010.txt did not match with any source\n",
      "[splitter.py:20]                sales_20241011.txt did not match with any source\n",
      "[splitter.py:20]                sales_20241013.txt did not match with any source\n",
      "[splitter.py:20]                sales_20241012.txt did not match with any source\n",
      "[splitter.py:20]                sales_20241015.txt did not match with any source\n",
      "[splitter.py:20]                sales_20241014.txt did not match with any source\n",
      "[splitter.py:20]                products_20241015.json did not match with any source\n",
      "[splitter.py:20]                sales_20241009.txt did not match with any source\n",
      "[splitter.py:20]                products_20241014.json did not match with any source\n",
      "[splitter.py:20]                products_20241009.json did not match with any source\n",
      "[splitter.py:14]                customer_20241015.csv matched with customer\n",
      "[splitter.py:17]                customer_20241015.csv moved to ./data/customer/\n",
      "[splitter.py:20]                products_20241013.json did not match with any source\n",
      "[splitter.py:14]                customer_20241014.csv matched with customer\n",
      "[splitter.py:17]                customer_20241014.csv moved to ./data/customer/\n",
      "[splitter.py:14]                customer_20241010.csv matched with customer\n",
      "[splitter.py:17]                customer_20241010.csv moved to ./data/customer/\n",
      "[splitter.py:20]                products_20241012.json did not match with any source\n",
      "[splitter.py:14]                customer_20241011.csv matched with customer\n",
      "[splitter.py:17]                customer_20241011.csv moved to ./data/customer/\n",
      "[splitter.py:14]                customer_20241013.csv matched with customer\n",
      "[splitter.py:17]                customer_20241013.csv moved to ./data/customer/\n",
      "[splitter.py:14]                customer_20241012.csv matched with customer\n",
      "[splitter.py:17]                customer_20241012.csv moved to ./data/customer/\n"
     ]
    }
   ],
   "source": [
    "from src.utils.splitter import split_files\n",
    "\n",
    "split_files()"
   ]
  },
  {
   "cell_type": "markdown",
   "metadata": {},
   "source": [
    "## Staging to Tables"
   ]
  },
  {
   "cell_type": "code",
   "execution_count": 3,
   "metadata": {},
   "outputs": [
    {
     "name": "stderr",
     "output_type": "stream",
     "text": [
      "[watermark.py:8]                Reading watermark table from ./watermark.parquet\n",
      "[watermark.py:12]               Watermark table not found at ./watermark.parquet. Creating new table\n",
      "[watermark.py:14]               Watermark table has 0 rows\n",
      "[ingestion.py:12]               Loading customer data\n",
      "[watermark.py:18]               Getting last run date for customer\n",
      "[watermark.py:21]               No previous runs found for customer\n",
      "[files.py:10]                   Getting files to process from ./data/customer/\n",
      "[files.py:14]                   Found 7 files to process\n",
      "[ingestion.py:19]               Processing customer_20241009.csv\n",
      "[files.py:26]                   Reading csv file from ./data/customer/customer_20241009.csv with kwargs {'sep': ','}\n",
      "[dataframes.py:134]             Processing data for customer\n",
      "[files.py:49]                   Getting saved file for customer\n",
      "[files.py:18]                   Getting save filename for customer\n",
      "[files.py:34]                   Reading parquet file from ./final_data/customer.parquet\n",
      "[files.py:54]                   File not found at ./final_data/customer.parquet. Creating new file\n",
      "[files.py:56]                   customer file has 0 rows\n",
      "[dataframes.py:49]              Processing file with 5000 records.\n",
      "[dataframes.py:82]              Detected 0 old records and 5000 new records.\n",
      "[files.py:18]                   Getting save filename for customer\n",
      "[files.py:22]                   Saving file with 5000 rows to ./final_data/customer.parquet\n",
      "[dataframes.py:165]             Processed 5000 records for customer\n",
      "[watermark.py:38]               Updating watermark table with {'source': 'customer', 'processed_rows': 5000, 'error_rows': 0, 'process_time': Timestamp('2025-02-28 00:05:45.935361'), 'file_date': Timestamp('2024-10-09 00:00:00'), 'file_id': '805a21e2-cca0-4673-83b4-603be3fd85dc', 'file_name': 'customer_20241009.csv'}\n",
      "[watermark.py:40]               Watermark table now has 1 rows\n",
      "[files.py:22]                   Saving file with 1 rows to ./watermark.parquet\n",
      "[watermark.py:42]               Watermark table saved to ./watermark.parquet\n",
      "[ingestion.py:25]               Processed customer_20241009.csv\n",
      "[ingestion.py:19]               Processing customer_20241010.csv\n",
      "[files.py:26]                   Reading csv file from ./data/customer/customer_20241010.csv with kwargs {'sep': ','}\n",
      "[dataframes.py:134]             Processing data for customer\n",
      "[files.py:49]                   Getting saved file for customer\n",
      "[files.py:18]                   Getting save filename for customer\n",
      "[files.py:34]                   Reading parquet file from ./final_data/customer.parquet\n",
      "[files.py:56]                   customer file has 5000 rows\n",
      "[dataframes.py:49]              Processing file with 5280 records.\n",
      "[dataframes.py:82]              Detected 802 old records and 1082 new records.\n",
      "[files.py:18]                   Getting save filename for customer\n",
      "[files.py:22]                   Saving file with 6082 rows to ./final_data/customer.parquet\n",
      "[dataframes.py:165]             Processed 5280 records for customer\n",
      "[watermark.py:38]               Updating watermark table with {'source': 'customer', 'processed_rows': 5280, 'error_rows': 0, 'process_time': Timestamp('2025-02-28 00:05:47.363721'), 'file_date': Timestamp('2024-10-10 00:00:00'), 'file_id': 'c00a4549-c4f6-442b-a682-b4608d2a167b', 'file_name': 'customer_20241010.csv'}\n",
      "[watermark.py:40]               Watermark table now has 2 rows\n",
      "[files.py:22]                   Saving file with 2 rows to ./watermark.parquet\n",
      "[watermark.py:42]               Watermark table saved to ./watermark.parquet\n",
      "[ingestion.py:25]               Processed customer_20241010.csv\n",
      "[ingestion.py:19]               Processing customer_20241011.csv\n",
      "[files.py:26]                   Reading csv file from ./data/customer/customer_20241011.csv with kwargs {'sep': ','}\n",
      "[dataframes.py:134]             Processing data for customer\n",
      "[files.py:49]                   Getting saved file for customer\n",
      "[files.py:18]                   Getting save filename for customer\n",
      "[files.py:34]                   Reading parquet file from ./final_data/customer.parquet\n",
      "[files.py:56]                   customer file has 6082 rows\n",
      "[dataframes.py:49]              Processing file with 5576 records.\n",
      "[dataframes.py:82]              Detected 819 old records and 1115 new records.\n",
      "[files.py:18]                   Getting save filename for customer\n",
      "[files.py:22]                   Saving file with 7197 rows to ./final_data/customer.parquet\n",
      "[dataframes.py:165]             Processed 5576 records for customer\n",
      "[watermark.py:38]               Updating watermark table with {'source': 'customer', 'processed_rows': 5576, 'error_rows': 0, 'process_time': Timestamp('2025-02-28 00:05:47.475766'), 'file_date': Timestamp('2024-10-11 00:00:00'), 'file_id': 'ab8900ce-8828-492f-97ab-dc434d8e4aa9', 'file_name': 'customer_20241011.csv'}\n",
      "[watermark.py:40]               Watermark table now has 3 rows\n",
      "[files.py:22]                   Saving file with 3 rows to ./watermark.parquet\n",
      "[watermark.py:42]               Watermark table saved to ./watermark.parquet\n",
      "[ingestion.py:25]               Processed customer_20241011.csv\n",
      "[ingestion.py:19]               Processing customer_20241012.csv\n",
      "[files.py:26]                   Reading csv file from ./data/customer/customer_20241012.csv with kwargs {'sep': ','}\n",
      "[dataframes.py:134]             Processing data for customer\n",
      "[files.py:49]                   Getting saved file for customer\n",
      "[files.py:18]                   Getting save filename for customer\n",
      "[files.py:34]                   Reading parquet file from ./final_data/customer.parquet\n",
      "[files.py:56]                   customer file has 7197 rows\n",
      "[dataframes.py:49]              Processing file with 5888 records.\n",
      "[dataframes.py:82]              Detected 884 old records and 1196 new records.\n",
      "[files.py:18]                   Getting save filename for customer\n",
      "[files.py:22]                   Saving file with 8393 rows to ./final_data/customer.parquet\n",
      "[dataframes.py:165]             Processed 5888 records for customer\n",
      "[watermark.py:38]               Updating watermark table with {'source': 'customer', 'processed_rows': 5888, 'error_rows': 0, 'process_time': Timestamp('2025-02-28 00:05:47.568654'), 'file_date': Timestamp('2024-10-12 00:00:00'), 'file_id': '7c96a5ff-7848-4db5-94f6-208cb45fc183', 'file_name': 'customer_20241012.csv'}\n",
      "[watermark.py:40]               Watermark table now has 4 rows\n",
      "[files.py:22]                   Saving file with 4 rows to ./watermark.parquet\n",
      "[watermark.py:42]               Watermark table saved to ./watermark.parquet\n",
      "[ingestion.py:25]               Processed customer_20241012.csv\n",
      "[ingestion.py:19]               Processing customer_20241013.csv\n",
      "[files.py:26]                   Reading csv file from ./data/customer/customer_20241013.csv with kwargs {'sep': ','}\n",
      "[dataframes.py:134]             Processing data for customer\n",
      "[files.py:49]                   Getting saved file for customer\n",
      "[files.py:18]                   Getting save filename for customer\n",
      "[files.py:34]                   Reading parquet file from ./final_data/customer.parquet\n",
      "[files.py:56]                   customer file has 8393 rows\n",
      "[dataframes.py:49]              Processing file with 6217 records.\n",
      "[dataframes.py:82]              Detected 917 old records and 1246 new records.\n",
      "[files.py:18]                   Getting save filename for customer\n",
      "[files.py:22]                   Saving file with 9639 rows to ./final_data/customer.parquet\n",
      "[dataframes.py:165]             Processed 6217 records for customer\n",
      "[watermark.py:38]               Updating watermark table with {'source': 'customer', 'processed_rows': 6217, 'error_rows': 0, 'process_time': Timestamp('2025-02-28 00:05:47.689984'), 'file_date': Timestamp('2024-10-13 00:00:00'), 'file_id': 'adfdb54b-d189-4c6a-a2c7-ec52363e9423', 'file_name': 'customer_20241013.csv'}\n",
      "[watermark.py:40]               Watermark table now has 5 rows\n",
      "[files.py:22]                   Saving file with 5 rows to ./watermark.parquet\n",
      "[watermark.py:42]               Watermark table saved to ./watermark.parquet\n",
      "[ingestion.py:25]               Processed customer_20241013.csv\n",
      "[ingestion.py:19]               Processing customer_20241014.csv\n",
      "[files.py:26]                   Reading csv file from ./data/customer/customer_20241014.csv with kwargs {'sep': ','}\n",
      "[dataframes.py:134]             Processing data for customer\n",
      "[files.py:49]                   Getting saved file for customer\n",
      "[files.py:18]                   Getting save filename for customer\n",
      "[files.py:34]                   Reading parquet file from ./final_data/customer.parquet\n",
      "[files.py:56]                   customer file has 9639 rows\n",
      "[dataframes.py:49]              Processing file with 6565 records.\n",
      "[dataframes.py:82]              Detected 974 old records and 1322 new records.\n",
      "[files.py:18]                   Getting save filename for customer\n",
      "[files.py:22]                   Saving file with 10961 rows to ./final_data/customer.parquet\n",
      "[dataframes.py:165]             Processed 6565 records for customer\n",
      "[watermark.py:38]               Updating watermark table with {'source': 'customer', 'processed_rows': 6565, 'error_rows': 0, 'process_time': Timestamp('2025-02-28 00:05:47.795177'), 'file_date': Timestamp('2024-10-14 00:00:00'), 'file_id': 'e7bf95fc-d258-4784-9c6e-49baf35556c2', 'file_name': 'customer_20241014.csv'}\n",
      "[watermark.py:40]               Watermark table now has 6 rows\n",
      "[files.py:22]                   Saving file with 6 rows to ./watermark.parquet\n",
      "[watermark.py:42]               Watermark table saved to ./watermark.parquet\n",
      "[ingestion.py:25]               Processed customer_20241014.csv\n",
      "[ingestion.py:19]               Processing customer_20241015.csv\n",
      "[files.py:26]                   Reading csv file from ./data/customer/customer_20241015.csv with kwargs {'sep': ','}\n",
      "[dataframes.py:134]             Processing data for customer\n",
      "[files.py:49]                   Getting saved file for customer\n",
      "[files.py:18]                   Getting save filename for customer\n",
      "[files.py:34]                   Reading parquet file from ./final_data/customer.parquet\n",
      "[files.py:56]                   customer file has 10961 rows\n",
      "[dataframes.py:49]              Processing file with 6933 records.\n",
      "[dataframes.py:82]              Detected 1041 old records and 1409 new records.\n",
      "[files.py:18]                   Getting save filename for customer\n",
      "[files.py:22]                   Saving file with 12370 rows to ./final_data/customer.parquet\n",
      "[dataframes.py:165]             Processed 6933 records for customer\n",
      "[watermark.py:38]               Updating watermark table with {'source': 'customer', 'processed_rows': 6933, 'error_rows': 0, 'process_time': Timestamp('2025-02-28 00:05:47.882729'), 'file_date': Timestamp('2024-10-15 00:00:00'), 'file_id': 'd370eaf8-7d6e-47c6-a67a-51be4d6795a1', 'file_name': 'customer_20241015.csv'}\n",
      "[watermark.py:40]               Watermark table now has 7 rows\n",
      "[files.py:22]                   Saving file with 7 rows to ./watermark.parquet\n",
      "[watermark.py:42]               Watermark table saved to ./watermark.parquet\n",
      "[ingestion.py:25]               Processed customer_20241015.csv\n"
     ]
    }
   ],
   "source": [
    "from src.utils.ingestion import run_ingestion\n",
    "\n",
    "run_ingestion()"
   ]
  },
  {
   "cell_type": "markdown",
   "metadata": {},
   "source": [
    "## Report Generation"
   ]
  },
  {
   "cell_type": "code",
   "execution_count": 4,
   "metadata": {},
   "outputs": [],
   "source": [
    "from matplotlib import pyplot as plt"
   ]
  },
  {
   "cell_type": "markdown",
   "metadata": {},
   "source": [
    "### Customer Growth"
   ]
  },
  {
   "cell_type": "code",
   "execution_count": 5,
   "metadata": {},
   "outputs": [
    {
     "data": {
      "image/png": "[encoded data removed]",
      "text/plain": [
       "<Figure size 640x480 with 1 Axes>"
      ]
     },
     "metadata": {},
     "output_type": "display_data"
    }
   ],
   "source": [
    "customers = pd.read_parquet('./final_data/customer.parquet')\n",
    "\n",
    "dates = customers['effective_from'].unique()\n",
    "\n",
    "data = []\n",
    "for date in sorted(dates):\n",
    "    snapshot = customers[(customers['effective_from'] <= date) & (customers['expiry_date'] > date)]\n",
    "    data.append({'date': date, 'count': len(snapshot)})\n",
    "\n",
    "df = pd.DataFrame(data)\n",
    "df.plot(x='date', y='count')\n",
    "plt.title('Customer Growth')\n",
    "plt.xlabel('Date')\n",
    "plt.ylabel('Number of Customers')\n",
    "plt.show()"
   ]
  },
  {
   "cell_type": "markdown",
   "metadata": {},
   "source": [
    "### Sales By Membership"
   ]
  },
  {
   "cell_type": "code",
   "execution_count": 6,
   "metadata": {},
   "outputs": [
    {
     "ename": "FileNotFoundError",
     "evalue": "[Errno 2] No such file or directory: './final_data/sales.parquet'",
     "output_type": "error",
     "traceback": [
      "\u001b[0;31m---------------------------------------------------------------------------\u001b[0m",
      "\u001b[0;31mFileNotFoundError\u001b[0m                         Traceback (most recent call last)",
      "Cell \u001b[0;32mIn[6], line 5\u001b[0m\n\u001b[1;32m      2\u001b[0m customers \u001b[38;5;241m=\u001b[39m pd\u001b[38;5;241m.\u001b[39mread_parquet(\u001b[38;5;124m'\u001b[39m\u001b[38;5;124m./final_data/customer.parquet\u001b[39m\u001b[38;5;124m'\u001b[39m)\n\u001b[1;32m      4\u001b[0m dates \u001b[38;5;241m=\u001b[39m customers[\u001b[38;5;124m'\u001b[39m\u001b[38;5;124meffective_from\u001b[39m\u001b[38;5;124m'\u001b[39m]\u001b[38;5;241m.\u001b[39munique()\n\u001b[0;32m----> 5\u001b[0m sales \u001b[38;5;241m=\u001b[39m \u001b[43mpd\u001b[49m\u001b[38;5;241;43m.\u001b[39;49m\u001b[43mread_parquet\u001b[49m\u001b[43m(\u001b[49m\u001b[38;5;124;43m'\u001b[39;49m\u001b[38;5;124;43m./final_data/sales.parquet\u001b[39;49m\u001b[38;5;124;43m'\u001b[39;49m\u001b[43m)\u001b[49m\n\u001b[1;32m      6\u001b[0m merged \u001b[38;5;241m=\u001b[39m sales\u001b[38;5;241m.\u001b[39mmerge(customers, on\u001b[38;5;241m=\u001b[39m\u001b[38;5;124m'\u001b[39m\u001b[38;5;124mcustomer_id\u001b[39m\u001b[38;5;124m'\u001b[39m, how\u001b[38;5;241m=\u001b[39m\u001b[38;5;124m'\u001b[39m\u001b[38;5;124mouter\u001b[39m\u001b[38;5;124m'\u001b[39m)\n\u001b[1;32m      7\u001b[0m merged \u001b[38;5;241m=\u001b[39m merged[(merged[\u001b[38;5;124m'\u001b[39m\u001b[38;5;124meffective_from_y\u001b[39m\u001b[38;5;124m'\u001b[39m] \u001b[38;5;241m<\u001b[39m\u001b[38;5;241m=\u001b[39m merged[\u001b[38;5;124m'\u001b[39m\u001b[38;5;124msale_date\u001b[39m\u001b[38;5;124m'\u001b[39m]) \u001b[38;5;241m&\u001b[39m (merged[\u001b[38;5;124m'\u001b[39m\u001b[38;5;124mexpiry_date_y\u001b[39m\u001b[38;5;124m'\u001b[39m] \u001b[38;5;241m>\u001b[39m merged[\u001b[38;5;124m'\u001b[39m\u001b[38;5;124msale_date\u001b[39m\u001b[38;5;124m'\u001b[39m])]\n",
      "File \u001b[0;32m~/Documents/4d-python-assessment-kingshuk/.venv/lib/python3.11/site-packages/pandas/io/parquet.py:667\u001b[0m, in \u001b[0;36mread_parquet\u001b[0;34m(path, engine, columns, storage_options, use_nullable_dtypes, dtype_backend, filesystem, filters, **kwargs)\u001b[0m\n\u001b[1;32m    664\u001b[0m     use_nullable_dtypes \u001b[38;5;241m=\u001b[39m \u001b[38;5;28;01mFalse\u001b[39;00m\n\u001b[1;32m    665\u001b[0m check_dtype_backend(dtype_backend)\n\u001b[0;32m--> 667\u001b[0m \u001b[38;5;28;01mreturn\u001b[39;00m \u001b[43mimpl\u001b[49m\u001b[38;5;241;43m.\u001b[39;49m\u001b[43mread\u001b[49m\u001b[43m(\u001b[49m\n\u001b[1;32m    668\u001b[0m \u001b[43m    \u001b[49m\u001b[43mpath\u001b[49m\u001b[43m,\u001b[49m\n\u001b[1;32m    669\u001b[0m \u001b[43m    \u001b[49m\u001b[43mcolumns\u001b[49m\u001b[38;5;241;43m=\u001b[39;49m\u001b[43mcolumns\u001b[49m\u001b[43m,\u001b[49m\n\u001b[1;32m    670\u001b[0m \u001b[43m    \u001b[49m\u001b[43mfilters\u001b[49m\u001b[38;5;241;43m=\u001b[39;49m\u001b[43mfilters\u001b[49m\u001b[43m,\u001b[49m\n\u001b[1;32m    671\u001b[0m \u001b[43m    \u001b[49m\u001b[43mstorage_options\u001b[49m\u001b[38;5;241;43m=\u001b[39;49m\u001b[43mstorage_options\u001b[49m\u001b[43m,\u001b[49m\n\u001b[1;32m    672\u001b[0m \u001b[43m    \u001b[49m\u001b[43muse_nullable_dtypes\u001b[49m\u001b[38;5;241;43m=\u001b[39;49m\u001b[43muse_nullable_dtypes\u001b[49m\u001b[43m,\u001b[49m\n\u001b[1;32m    673\u001b[0m \u001b[43m    \u001b[49m\u001b[43mdtype_backend\u001b[49m\u001b[38;5;241;43m=\u001b[39;49m\u001b[43mdtype_backend\u001b[49m\u001b[43m,\u001b[49m\n\u001b[1;32m    674\u001b[0m \u001b[43m    \u001b[49m\u001b[43mfilesystem\u001b[49m\u001b[38;5;241;43m=\u001b[39;49m\u001b[43mfilesystem\u001b[49m\u001b[43m,\u001b[49m\n\u001b[1;32m    675\u001b[0m \u001b[43m    \u001b[49m\u001b[38;5;241;43m*\u001b[39;49m\u001b[38;5;241;43m*\u001b[39;49m\u001b[43mkwargs\u001b[49m\u001b[43m,\u001b[49m\n\u001b[1;32m    676\u001b[0m \u001b[43m\u001b[49m\u001b[43m)\u001b[49m\n",
      "File \u001b[0;32m~/Documents/4d-python-assessment-kingshuk/.venv/lib/python3.11/site-packages/pandas/io/parquet.py:267\u001b[0m, in \u001b[0;36mPyArrowImpl.read\u001b[0;34m(self, path, columns, filters, use_nullable_dtypes, dtype_backend, storage_options, filesystem, **kwargs)\u001b[0m\n\u001b[1;32m    264\u001b[0m \u001b[38;5;28;01mif\u001b[39;00m manager \u001b[38;5;241m==\u001b[39m \u001b[38;5;124m\"\u001b[39m\u001b[38;5;124marray\u001b[39m\u001b[38;5;124m\"\u001b[39m:\n\u001b[1;32m    265\u001b[0m     to_pandas_kwargs[\u001b[38;5;124m\"\u001b[39m\u001b[38;5;124msplit_blocks\u001b[39m\u001b[38;5;124m\"\u001b[39m] \u001b[38;5;241m=\u001b[39m \u001b[38;5;28;01mTrue\u001b[39;00m  \u001b[38;5;66;03m# type: ignore[assignment]\u001b[39;00m\n\u001b[0;32m--> 267\u001b[0m path_or_handle, handles, filesystem \u001b[38;5;241m=\u001b[39m \u001b[43m_get_path_or_handle\u001b[49m\u001b[43m(\u001b[49m\n\u001b[1;32m    268\u001b[0m \u001b[43m    \u001b[49m\u001b[43mpath\u001b[49m\u001b[43m,\u001b[49m\n\u001b[1;32m    269\u001b[0m \u001b[43m    \u001b[49m\u001b[43mfilesystem\u001b[49m\u001b[43m,\u001b[49m\n\u001b[1;32m    270\u001b[0m \u001b[43m    \u001b[49m\u001b[43mstorage_options\u001b[49m\u001b[38;5;241;43m=\u001b[39;49m\u001b[43mstorage_options\u001b[49m\u001b[43m,\u001b[49m\n\u001b[1;32m    271\u001b[0m \u001b[43m    \u001b[49m\u001b[43mmode\u001b[49m\u001b[38;5;241;43m=\u001b[39;49m\u001b[38;5;124;43m\"\u001b[39;49m\u001b[38;5;124;43mrb\u001b[39;49m\u001b[38;5;124;43m\"\u001b[39;49m\u001b[43m,\u001b[49m\n\u001b[1;32m    272\u001b[0m \u001b[43m\u001b[49m\u001b[43m)\u001b[49m\n\u001b[1;32m    273\u001b[0m \u001b[38;5;28;01mtry\u001b[39;00m:\n\u001b[1;32m    274\u001b[0m     pa_table \u001b[38;5;241m=\u001b[39m \u001b[38;5;28mself\u001b[39m\u001b[38;5;241m.\u001b[39mapi\u001b[38;5;241m.\u001b[39mparquet\u001b[38;5;241m.\u001b[39mread_table(\n\u001b[1;32m    275\u001b[0m         path_or_handle,\n\u001b[1;32m    276\u001b[0m         columns\u001b[38;5;241m=\u001b[39mcolumns,\n\u001b[0;32m   (...)\u001b[0m\n\u001b[1;32m    279\u001b[0m         \u001b[38;5;241m*\u001b[39m\u001b[38;5;241m*\u001b[39mkwargs,\n\u001b[1;32m    280\u001b[0m     )\n",
      "File \u001b[0;32m~/Documents/4d-python-assessment-kingshuk/.venv/lib/python3.11/site-packages/pandas/io/parquet.py:140\u001b[0m, in \u001b[0;36m_get_path_or_handle\u001b[0;34m(path, fs, storage_options, mode, is_dir)\u001b[0m\n\u001b[1;32m    130\u001b[0m handles \u001b[38;5;241m=\u001b[39m \u001b[38;5;28;01mNone\u001b[39;00m\n\u001b[1;32m    131\u001b[0m \u001b[38;5;28;01mif\u001b[39;00m (\n\u001b[1;32m    132\u001b[0m     \u001b[38;5;129;01mnot\u001b[39;00m fs\n\u001b[1;32m    133\u001b[0m     \u001b[38;5;129;01mand\u001b[39;00m \u001b[38;5;129;01mnot\u001b[39;00m is_dir\n\u001b[0;32m   (...)\u001b[0m\n\u001b[1;32m    138\u001b[0m     \u001b[38;5;66;03m# fsspec resources can also point to directories\u001b[39;00m\n\u001b[1;32m    139\u001b[0m     \u001b[38;5;66;03m# this branch is used for example when reading from non-fsspec URLs\u001b[39;00m\n\u001b[0;32m--> 140\u001b[0m     handles \u001b[38;5;241m=\u001b[39m \u001b[43mget_handle\u001b[49m\u001b[43m(\u001b[49m\n\u001b[1;32m    141\u001b[0m \u001b[43m        \u001b[49m\u001b[43mpath_or_handle\u001b[49m\u001b[43m,\u001b[49m\u001b[43m \u001b[49m\u001b[43mmode\u001b[49m\u001b[43m,\u001b[49m\u001b[43m \u001b[49m\u001b[43mis_text\u001b[49m\u001b[38;5;241;43m=\u001b[39;49m\u001b[38;5;28;43;01mFalse\u001b[39;49;00m\u001b[43m,\u001b[49m\u001b[43m \u001b[49m\u001b[43mstorage_options\u001b[49m\u001b[38;5;241;43m=\u001b[39;49m\u001b[43mstorage_options\u001b[49m\n\u001b[1;32m    142\u001b[0m \u001b[43m    \u001b[49m\u001b[43m)\u001b[49m\n\u001b[1;32m    143\u001b[0m     fs \u001b[38;5;241m=\u001b[39m \u001b[38;5;28;01mNone\u001b[39;00m\n\u001b[1;32m    144\u001b[0m     path_or_handle \u001b[38;5;241m=\u001b[39m handles\u001b[38;5;241m.\u001b[39mhandle\n",
      "File \u001b[0;32m~/Documents/4d-python-assessment-kingshuk/.venv/lib/python3.11/site-packages/pandas/io/common.py:882\u001b[0m, in \u001b[0;36mget_handle\u001b[0;34m(path_or_buf, mode, encoding, compression, memory_map, is_text, errors, storage_options)\u001b[0m\n\u001b[1;32m    873\u001b[0m         handle \u001b[38;5;241m=\u001b[39m \u001b[38;5;28mopen\u001b[39m(\n\u001b[1;32m    874\u001b[0m             handle,\n\u001b[1;32m    875\u001b[0m             ioargs\u001b[38;5;241m.\u001b[39mmode,\n\u001b[0;32m   (...)\u001b[0m\n\u001b[1;32m    878\u001b[0m             newline\u001b[38;5;241m=\u001b[39m\u001b[38;5;124m\"\u001b[39m\u001b[38;5;124m\"\u001b[39m,\n\u001b[1;32m    879\u001b[0m         )\n\u001b[1;32m    880\u001b[0m     \u001b[38;5;28;01melse\u001b[39;00m:\n\u001b[1;32m    881\u001b[0m         \u001b[38;5;66;03m# Binary mode\u001b[39;00m\n\u001b[0;32m--> 882\u001b[0m         handle \u001b[38;5;241m=\u001b[39m \u001b[38;5;28mopen\u001b[39m(handle, ioargs\u001b[38;5;241m.\u001b[39mmode)\n\u001b[1;32m    883\u001b[0m     handles\u001b[38;5;241m.\u001b[39mappend(handle)\n\u001b[1;32m    885\u001b[0m \u001b[38;5;66;03m# Convert BytesIO or file objects passed with an encoding\u001b[39;00m\n",
      "\u001b[0;31mFileNotFoundError\u001b[0m: [Errno 2] No such file or directory: './final_data/sales.parquet'"
     ]
    }
   ],
   "source": [
    "# Sales By Members\n",
    "customers = pd.read_parquet('./final_data/customer.parquet')\n",
    "\n",
    "dates = customers['effective_from'].unique()\n",
    "sales = pd.read_parquet('./final_data/sales.parquet')\n",
    "merged = sales.merge(customers, on='customer_id', how='outer')\n",
    "merged = merged[(merged['effective_from_y'] <= merged['sale_date']) & (merged['expiry_date_y'] > merged['sale_date'])]\n",
    "data = merged.groupby(['sale_date', 'membership_status'])['total_price'].sum().unstack().fillna(0)\n",
    "\n",
    "data.plot()\n",
    "plt.title('Sales by Membership Status')\n",
    "plt.xlabel('Date')\n",
    "plt.ylabel('Total Sales')\n",
    "plt.show()"
   ]
  },
  {
   "cell_type": "markdown",
   "metadata": {},
   "source": [
    "### Product Sale Breakdown"
   ]
  },
  {
   "cell_type": "code",
   "execution_count": null,
   "metadata": {},
   "outputs": [],
   "source": [
    "# pivot of most popular products over time from members vs non-members\n",
    "\n",
    "products = pd.read_parquet('./final_data/product.parquet')\n",
    "customers = pd.read_parquet('./final_data/customer.parquet')\n",
    "sales = pd.read_parquet('./final_data/sales.parquet')\n",
    "\n",
    "merged = sales.merge(customers, on='customer_id', how='outer')\n",
    "merged = merged[(merged['effective_from_y'] <= merged['sale_date']) & (merged['expiry_date_y'] > merged['sale_date'])]\n",
    "merged_with_products = merged.merge(products, on='product_id', how='left')\n",
    "data = merged_with_products.groupby(['sale_date', 'membership_status', 'name'])['total_price'].sum().unstack().fillna(0)\n",
    "\n",
    "data"
   ]
  },
  {
   "cell_type": "code",
   "execution_count": null,
   "metadata": {},
   "outputs": [],
   "source": []
  }
 ],
 "metadata": {
  "kernelspec": {
   "display_name": ".venv",
   "language": "python",
   "name": "python3"
  },
  "language_info": {
   "codemirror_mode": {
    "name": "ipython",
    "version": 3
   },
   "file_extension": ".py",
   "mimetype": "text/x-python",
   "name": "python",
   "nbconvert_exporter": "python",
   "pygments_lexer": "ipython3",
   "version": "3.11.5"
  },
  "orig_nbformat": 4
 },
 "nbformat": 4,
 "nbformat_minor": 2
}
